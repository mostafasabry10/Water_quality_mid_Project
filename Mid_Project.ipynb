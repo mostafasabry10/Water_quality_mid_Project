{
 "cells": [
  {
   "cell_type": "markdown",
   "id": "1a077509-14d2-42cc-a65c-0adf277c682b",
   "metadata": {},
   "source": [
    "# Understanding Data"
   ]
  },
  {
   "cell_type": "markdown",
   "id": "5685c0c5-5723-4173-a4a3-f1f0a17ebf72",
   "metadata": {},
   "source": [
    "🌊 Water Measurement Metadata\n",
    "\n",
    "Column\t                                                Description\n",
    "\n",
    "parameterWaterBodyCategory                          \tType of water body (e.g., \"RW\" = River Water).\n",
    "observedPropertyDeterminandCode                     \tCode identifying the measured chemical or compound (e.g., CAS numbers).\n",
    "procedureAnalysedFraction                           \tType of sample analyzed (e.g., \"total\" = full content).\n",
    "procedureAnalysedMedia\t                                Medium sampled (usually \"water\").\n",
    "resultUom\t                                            Unit of measurement (e.g., mg{NO3}/L = milligrams of nitrate per liter).\n",
    "phenomenonTimeReferenceYear                            \tYear of data collection.\n",
    "parameterSamplingPeriod\t                                Time window the sample was collected.\n",
    "resultMeanValue                                       \tActual measured value of the compound in water.\n",
    "waterBodyIdentifier                                  \tUnique identifier for the sampled water body.\n",
    "Country\t                                                Country of sample origin.\n",
    "\n",
    "🧑‍🤝‍🧑 Demographics & Environment\n",
    "\n",
    "Column\t                                                   Description\n",
    "\n",
    "PopulationDensity\t                                       Population per square kilometer.\n",
    "TerraMarineProtected_2016_2018                             Protected land/water area coverage (in some unit or percentage).\n",
    "TouristMean_1990_2020\t                                   Average number of tourists in the region over time.\n",
    "VenueCount\t                                               Number of public venues (possibly cultural or tourism-related).\n",
    "netMigration_2011_2018                                     Net migration into/out of the region.\n",
    "droughts_floods_temperature                                Composite climate event index.\n",
    "literacyRate_2010_2018\t                                   Average literacy rate.\n",
    "combustibleRenewables_2009_2014\t                           Use of combustible renewables like biomass (possibly in % of energy).\n",
    "gdp\tGross domestic                                         product, possibly per capita or total for the region.\n",
    "\n",
    "🗑️ Waste Composition\n",
    "\n",
    "Column\t                                                Description\n",
    "\n",
    "composition_food_organic_waste_percent                \t% of waste that is food/organic.\n",
    "composition_glass_percent                              \t% of glass in waste.\n",
    "composition_metal_percent\t                            % of metal.\n",
    "composition_other_percent                            \tMiscellaneous waste.\n",
    "composition_paper_cardboard_percent                  \t% of paper/cardboard.\n",
    "composition_plastic_percent                          \t% of plastic.\n",
    "composition_rubber_leather_percent\t                    % of rubber/leather.\n",
    "composition_wood_percent                            \t% of wood.\n",
    "composition_yard_garden_green_waste_percent\t            % of green/garden waste.\n",
    "waste_treatment_recycling_percent\t                    % of waste that is recycled."
   ]
  },
  {
   "cell_type": "markdown",
   "id": "cb51379b-4f39-4c49-8f82-005f3a6d7c0d",
   "metadata": {},
   "source": [
    "# importing important Libraries"
   ]
  },
  {
   "cell_type": "code",
   "execution_count": 1,
   "id": "16b675e8-d1d8-47be-abc0-f945138c16d7",
   "metadata": {},
   "outputs": [],
   "source": [
    "import pandas as pd \n",
    "import numpy as np\n",
    "import plotly.express as px\n",
    "import streamlit as st"
   ]
  },
  {
   "cell_type": "markdown",
   "id": "9df636fb-e93c-47ad-a199-bc705b53cb9f",
   "metadata": {},
   "source": [
    "# Data Loading"
   ]
  },
  {
   "cell_type": "code",
   "execution_count": null,
   "id": "6bac147d-dbc8-4c01-a5dc-3e45d7acef40",
   "metadata": {},
   "outputs": [],
   "source": [
    "df = pd.read_csv()"
   ]
  }
 ],
 "metadata": {
  "kernelspec": {
   "display_name": "Python 3 (ipykernel)",
   "language": "python",
   "name": "python3"
  },
  "language_info": {
   "codemirror_mode": {
    "name": "ipython",
    "version": 3
   },
   "file_extension": ".py",
   "mimetype": "text/x-python",
   "name": "python",
   "nbconvert_exporter": "python",
   "pygments_lexer": "ipython3",
   "version": "3.12.9"
  }
 },
 "nbformat": 4,
 "nbformat_minor": 5
}
